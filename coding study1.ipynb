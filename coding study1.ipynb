{
 "cells": [
  {
   "cell_type": "code",
   "execution_count": 140,
   "metadata": {},
   "outputs": [
    {
     "name": "stdout",
     "output_type": "stream",
     "text": [
      "[2, 2, 3, 4, 5, 7, 10, 10, 10, 14, 14, 15, 17, 17, 18, 19, 21, 21, 21, 21, 24, 24, 24, 27, 27, 27, 27, 28, 28, 29, 29, 32, 33, 34, 35, 35, 39, 39, 41, 42, 43, 43, 43, 45, 45, 46, 46, 47, 47, 48, 48, 50, 54, 54, 54, 55, 55, 58, 59, 59, 59, 61, 61, 63, 66, 67, 68, 68, 70, 70, 70, 71, 71, 74, 74, 74, 76, 77, 79, 79, 80, 80, 83, 85, 86, 87, 87, 87, 88, 90, 91, 91, 91, 93, 94, 95, 97, 100, 100]\n"
     ]
    }
   ],
   "source": [
    "from random import *\n",
    "A=[]\n",
    "for i in range(1,100):\n",
    "    i = randint(1, 100) \n",
    "    A.append(i)\n",
    "A"
   ]
  },
  {
   "cell_type": "code",
   "execution_count": null,
   "metadata": {},
   "outputs": [],
   "source": [
    "# insetion sort\n",
    "for i in range(1,len(A)):\n",
    "    key=A[i]\n",
    "    j=i-1\n",
    "    while j>=0 and A[j] > key:\n",
    "        A[j+1]=A[j]\n",
    "        j=j-1\n",
    "        A[j+1]=key\n",
    "print(A)\n"
   ]
  },
  {
   "cell_type": "code",
   "execution_count": 60,
   "metadata": {},
   "outputs": [],
   "source": [
    "#merge sort\n",
    "def merge(left, right):\n",
    "    result = []\n",
    "    while len(left) > 0 or len(right) > 0:\n",
    "        if len(left) > 0 and len(right) > 0:\n",
    "            if left[0] <= right[0]:\n",
    "                result.append(left[0])\n",
    "                left = left[1:]\n",
    "            else:\n",
    "                result.append(right[0])\n",
    "                right = right[1:]\n",
    "        elif len(left) > 0:\n",
    "            result.append(left[0])\n",
    "            left = left[1:]\n",
    "        elif len(right) > 0:\n",
    "            result.append(right[0])\n",
    "            right = right[1:]\n",
    "    return result"
   ]
  },
  {
   "cell_type": "code",
   "execution_count": 67,
   "metadata": {},
   "outputs": [
    {
     "data": {
      "text/plain": [
       "[1, 2, 3, 4, 5, 6, 7, 8, 9]"
      ]
     },
     "execution_count": 67,
     "metadata": {},
     "output_type": "execute_result"
    }
   ],
   "source": [
    "def merge_sort(list):\n",
    "    if len(list) <= 1:\n",
    "        return list\n",
    "    mid = len(list) // 2\n",
    "    left = list[:mid]\n",
    "    right = list[mid:]\n",
    "    left = merge_sort(left)\n",
    "    right = merge_sort(right)\n",
    "    return merge(left,right)\n",
    "\n",
    "merge_sort(A)"
   ]
  },
  {
   "cell_type": "code",
   "execution_count": 89,
   "metadata": {},
   "outputs": [],
   "source": [
    "A=[1,3,2,4,6,5,8,9,7]"
   ]
  },
  {
   "cell_type": "code",
   "execution_count": 137,
   "metadata": {
    "scrolled": true
   },
   "outputs": [
    {
     "name": "stdout",
     "output_type": "stream",
     "text": [
      "49 [2, 2, 3, 4, 5, 7, 10, 10, 10, 14, 14, 15, 17, 17, 18, 19, 21, 21, 21, 21, 24, 24, 24, 27, 27, 27, 27, 28, 28, 29, 29, 32, 33, 34, 35, 35, 39, 39, 41, 42, 43, 43, 43, 45, 45, 46, 46, 47, 47] [48, 48, 50, 54, 54, 54, 55, 55, 58, 59, 59, 59, 61, 61, 63, 66, 67, 68, 68, 70, 70, 70, 71, 71, 74, 74, 74, 76, 77, 79, 79, 80, 80, 83, 85, 86, 87, 87, 87, 88, 90, 91, 91, 91, 93, 94, 95, 97, 100, 100]\n",
      "24 [2, 2, 3, 4, 5, 7, 10, 10, 10, 14, 14, 15, 17, 17, 18, 19, 21, 21, 21, 21, 24, 24, 24, 27] [27, 27, 27, 28, 28, 29, 29, 32, 33, 34, 35, 35, 39, 39, 41, 42, 43, 43, 43, 45, 45, 46, 46, 47, 47]\n"
     ]
    },
    {
     "data": {
      "text/plain": [
       "[2,\n",
       " 2,\n",
       " 3,\n",
       " 4,\n",
       " 5,\n",
       " 7,\n",
       " 10,\n",
       " 10,\n",
       " 10,\n",
       " 14,\n",
       " 14,\n",
       " 15,\n",
       " 17,\n",
       " 17,\n",
       " 18,\n",
       " 19,\n",
       " 21,\n",
       " 21,\n",
       " 21,\n",
       " 21,\n",
       " 24,\n",
       " 24,\n",
       " 24,\n",
       " 27,\n",
       " 27,\n",
       " 27,\n",
       " 27,\n",
       " 28,\n",
       " 28,\n",
       " 29,\n",
       " 29,\n",
       " 32,\n",
       " 33,\n",
       " 34,\n",
       " 35,\n",
       " 35,\n",
       " 39,\n",
       " 39,\n",
       " 41,\n",
       " 42,\n",
       " 43,\n",
       " 43,\n",
       " 43,\n",
       " 45,\n",
       " 45,\n",
       " 46,\n",
       " 46,\n",
       " 47,\n",
       " 47,\n",
       " 48,\n",
       " 48,\n",
       " 50,\n",
       " 54,\n",
       " 54,\n",
       " 54,\n",
       " 55,\n",
       " 55,\n",
       " 58,\n",
       " 59,\n",
       " 59,\n",
       " 59,\n",
       " 61,\n",
       " 61,\n",
       " 63,\n",
       " 66,\n",
       " 67,\n",
       " 68,\n",
       " 68,\n",
       " 70,\n",
       " 70,\n",
       " 70,\n",
       " 71,\n",
       " 71,\n",
       " 74,\n",
       " 74,\n",
       " 74,\n",
       " 76,\n",
       " 77,\n",
       " 79,\n",
       " 79,\n",
       " 80,\n",
       " 80,\n",
       " 83,\n",
       " 85,\n",
       " 86,\n",
       " 87,\n",
       " 87,\n",
       " 87,\n",
       " 88,\n",
       " 90,\n",
       " 91,\n",
       " 91,\n",
       " 91,\n",
       " 93,\n",
       " 94,\n",
       " 95,\n",
       " 97,\n",
       " 100,\n",
       " 100]"
      ]
     },
     "execution_count": 137,
     "metadata": {},
     "output_type": "execute_result"
    }
   ],
   "source": [
    "\n",
    "mid=len(A)//2\n",
    "left=A[:mid]\n",
    "right=A[mid:]\n",
    "print(mid,left,right)\n",
    "mid2=len(left)//2\n",
    "left2=left[:mid2]\n",
    "right2=left[mid2:]\n",
    "print(mid2,left2,right2)\n"
   ]
  },
  {
   "cell_type": "code",
   "execution_count": 138,
   "metadata": {},
   "outputs": [
    {
     "data": {
      "text/plain": [
       "[2,\n",
       " 2,\n",
       " 3,\n",
       " 4,\n",
       " 5,\n",
       " 7,\n",
       " 10,\n",
       " 10,\n",
       " 10,\n",
       " 14,\n",
       " 14,\n",
       " 15,\n",
       " 17,\n",
       " 17,\n",
       " 18,\n",
       " 19,\n",
       " 21,\n",
       " 21,\n",
       " 21,\n",
       " 21,\n",
       " 24,\n",
       " 24,\n",
       " 24,\n",
       " 27,\n",
       " 27,\n",
       " 27,\n",
       " 27,\n",
       " 28,\n",
       " 28,\n",
       " 29,\n",
       " 29,\n",
       " 32,\n",
       " 33,\n",
       " 34,\n",
       " 35,\n",
       " 35,\n",
       " 39,\n",
       " 39,\n",
       " 41,\n",
       " 42,\n",
       " 43,\n",
       " 43,\n",
       " 43,\n",
       " 45,\n",
       " 45,\n",
       " 46,\n",
       " 46,\n",
       " 47,\n",
       " 47,\n",
       " 48,\n",
       " 48,\n",
       " 50,\n",
       " 54,\n",
       " 54,\n",
       " 54,\n",
       " 55,\n",
       " 55,\n",
       " 58,\n",
       " 59,\n",
       " 59,\n",
       " 59,\n",
       " 61,\n",
       " 61,\n",
       " 63,\n",
       " 66,\n",
       " 67,\n",
       " 68,\n",
       " 68,\n",
       " 70,\n",
       " 70,\n",
       " 70,\n",
       " 71,\n",
       " 71,\n",
       " 74,\n",
       " 74,\n",
       " 74,\n",
       " 76,\n",
       " 77,\n",
       " 79,\n",
       " 79,\n",
       " 80,\n",
       " 80,\n",
       " 83,\n",
       " 85,\n",
       " 86,\n",
       " 87,\n",
       " 87,\n",
       " 87,\n",
       " 88,\n",
       " 90,\n",
       " 91,\n",
       " 91,\n",
       " 91,\n",
       " 93,\n",
       " 94,\n",
       " 95,\n",
       " 97,\n",
       " 100,\n",
       " 100]"
      ]
     },
     "execution_count": 138,
     "metadata": {},
     "output_type": "execute_result"
    }
   ],
   "source": [
    "\n",
    "def merge(left, right):\n",
    "    order = []\n",
    "    while len(left) > 0 or len(right) > 0:\n",
    "        if len(left) > 0 and len(right) > 0:\n",
    "            if left[0] <= right[0]:\n",
    "                order.append(left[0])\n",
    "                left = left[1:]\n",
    "            else:\n",
    "                order.append(right[0])\n",
    "                right = right[1:]\n",
    "        elif len(left) > 0:\n",
    "            order.append(left[0])\n",
    "            left = left[1:]\n",
    "        elif len(right) > 0:\n",
    "            order.append(right[0])\n",
    "            right = right[1:]\n",
    "    return order\n",
    "\n",
    "def merge_sort(vec):\n",
    "    if len(vec) < 2:\n",
    "        return vec\n",
    "    mid = len(vec) // 2\n",
    "    left = vec[:mid]\n",
    "    right = vec[mid:]\n",
    "    left = merge_sort(left)\n",
    "    right = merge_sort(right)\n",
    "    return merge(left,right)\n",
    "\n",
    "merge_sort(A)"
   ]
  },
  {
   "cell_type": "code",
   "execution_count": 136,
   "metadata": {},
   "outputs": [
    {
     "name": "stdout",
     "output_type": "stream",
     "text": [
      "0.0030019283294677734\n"
     ]
    }
   ],
   "source": [
    "import time\n",
    "import sys, collections\n",
    "from time import strftime\n",
    "\n",
    "start_time=time.time()\n",
    "\n",
    "merge_sort(A)\n",
    "a_time= time.time()-start_time\n",
    "print(a_time)\n"
   ]
  },
  {
   "cell_type": "code",
   "execution_count": 135,
   "metadata": {},
   "outputs": [
    {
     "name": "stdout",
     "output_type": "stream",
     "text": [
      "0.006002187728881836 False\n"
     ]
    }
   ],
   "source": [
    "\n",
    "start_time=time.time()\n",
    "\n",
    "for i in range(1,len(A)):\n",
    "    key=A[i]\n",
    "    j=i-1\n",
    "    while j>=0 and A[j] > key:\n",
    "        A[j+1]=A[j]\n",
    "        j=j-1\n",
    "        A[j+1]=key\n",
    "b_time = time.time()-start_time\n",
    "print(b_time,a_time > b_time)\n",
    "\n",
    "\n"
   ]
  }
 ],
 "metadata": {
  "kernelspec": {
   "display_name": "Python 3",
   "language": "python",
   "name": "python3"
  },
  "language_info": {
   "codemirror_mode": {
    "name": "ipython",
    "version": 3
   },
   "file_extension": ".py",
   "mimetype": "text/x-python",
   "name": "python",
   "nbconvert_exporter": "python",
   "pygments_lexer": "ipython3",
   "version": "3.7.4"
  }
 },
 "nbformat": 4,
 "nbformat_minor": 2
}
